{
 "cells": [
  {
   "cell_type": "code",
   "execution_count": 30,
   "metadata": {},
   "outputs": [],
   "source": [
    "import numpy\n",
    "from keras.datasets import imdb\n",
    "from keras.models import Sequential\n",
    "\n",
    "from keras.layers import Dense, Softmax, Dropout\n",
    "from keras.layers import LSTM\n",
    "from keras.layers.embeddings import Embedding\n",
    "from keras.preprocessing import sequence\n",
    "from sklearn.model_selection import train_test_split\n",
    "from sklearn.feature_extraction.text import CountVectorizer\n",
    "import matplotlib.pyplot as plt\n",
    "import pandas as pd\n",
    "\n",
    "from keras.preprocessing.text import Tokenizer"
   ]
  },
  {
   "cell_type": "code",
   "execution_count": 32,
   "metadata": {},
   "outputs": [],
   "source": [
    "\n",
    "df_master = pd.read_csv(\"Example_CSV/imdb_master.csv\", encoding='latin-1', index_col = 0)\n",
    "df_master['sentiment']=df_master['label'].apply(lambda x : 0 if x == 'neg' else 1)\n"
   ]
  },
  {
   "cell_type": "code",
   "execution_count": null,
   "metadata": {},
   "outputs": [],
   "source": [
    "\n",
    "\n",
    "\n"
   ]
  },
  {
   "cell_type": "code",
   "execution_count": 33,
   "metadata": {},
   "outputs": [],
   "source": [
    "\n",
    "\n",
    "\n",
    "X_train = df_master.loc[:49999,'review'].values\n",
    "y_train = df_master.loc[:49999,'sentiment'].values  #.apply(lambda x : 0 if x == 'neg' else 1)\n",
    "X_test = df_master.loc[50000:,'review'].values\n",
    "y_test = df_master.loc[50000:,'sentiment'].values   #.apply(lambda x : 0 if x == 'neg' else 1)\n",
    "\n"
   ]
  },
  {
   "cell_type": "code",
   "execution_count": 34,
   "metadata": {},
   "outputs": [],
   "source": [
    "\n",
    "\n",
    "tokenizer = Tokenizer()\n",
    "total_reviews = X_train + X_test\n",
    "tokenizer.fit_on_texts(total_reviews)\n",
    "\n",
    "max_length = max([len(s.split()) for s in total_reviews])\n",
    "\n",
    "vocab_size = len(tokenizer.word_index) + 1\n",
    "\n",
    "\n",
    "X_train_tokens = tokenizer.texts_to_sequences(X_train)\n",
    "X_test_tokens = tokenizer.texts_to_sequences(X_test)\n",
    "\n",
    "X_train_pad = sequence.pad_sequences(X_train_tokens, padding='post', maxlen=max_length)\n",
    "X_test_pad = sequence.pad_sequences(X_test_tokens, padding='post', maxlen=max_length)\n",
    "\n",
    "#X_train_pad.shape\n"
   ]
  },
  {
   "cell_type": "code",
   "execution_count": 35,
   "metadata": {},
   "outputs": [
    {
     "name": "stdout",
     "output_type": "stream",
     "text": [
      "_________________________________________________________________\n",
      "Layer (type)                 Output Shape              Param #   \n",
      "=================================================================\n",
      "embedding_2 (Embedding)      (None, 2665, 100)         17893900  \n",
      "_________________________________________________________________\n",
      "dropout_3 (Dropout)          (None, 2665, 100)         0         \n",
      "_________________________________________________________________\n",
      "lstm_2 (LSTM)                (None, 100)               80400     \n",
      "_________________________________________________________________\n",
      "dropout_4 (Dropout)          (None, 100)               0         \n",
      "_________________________________________________________________\n",
      "dense_2 (Dense)              (None, 1)                 101       \n",
      "=================================================================\n",
      "Total params: 17,974,401\n",
      "Trainable params: 17,974,401\n",
      "Non-trainable params: 0\n",
      "_________________________________________________________________\n",
      "None\n"
     ]
    }
   ],
   "source": [
    "top_words = 80000\n",
    "\n",
    "embedding_vecor_length = 100\n",
    "model = Sequential()\n",
    "model.add(Embedding(vocab_size, embedding_vecor_length, input_length = max_length))\n",
    "model.add(Dropout(0.2))\n",
    "model.add(LSTM(100))\n",
    "model.add(Dropout(0.2))\n",
    "model.add(Dense(1, activation='sigmoid'))\n",
    "model.compile(loss='binary_crossentropy', optimizer='adam', metrics=['accuracy'])\n",
    "print(model.summary())\n",
    "#model.fit(X_train_pad, y_train, validation_data=(X_test_pad, y_test), epochs=3, batch_size=64,verbose=2)\n"
   ]
  },
  {
   "cell_type": "code",
   "execution_count": null,
   "metadata": {},
   "outputs": [
    {
     "name": "stdout",
     "output_type": "stream",
     "text": [
      "Train on 50000 samples, validate on 50000 samples\n",
      "Epoch 1/3\n",
      " - 7222s - loss: 0.6932 - acc: 0.5017 - val_loss: 0.6940 - val_acc: 0.0000e+00\n",
      "Epoch 2/3\n"
     ]
    }
   ],
   "source": [
    "model.fit(X_train_pad, y_train, validation_data=(X_test_pad, y_test), epochs=3, batch_size=500,verbose=2)"
   ]
  },
  {
   "cell_type": "code",
   "execution_count": 12,
   "metadata": {},
   "outputs": [
    {
     "data": {
      "text/plain": [
       "array([[1.7464161e-05],\n",
       "       [1.7464161e-05],\n",
       "       [1.7464161e-05],\n",
       "       ...,\n",
       "       [1.7464161e-05],\n",
       "       [1.7464161e-05],\n",
       "       [1.7455768e-05]], dtype=float32)"
      ]
     },
     "execution_count": 12,
     "metadata": {},
     "output_type": "execute_result"
    }
   ],
   "source": [
    "from sklearn.metrics import accuracy_score\n",
    "y_pred = model.predict(X_test_pad)\n",
    "\n",
    "y_pred\n",
    "\n",
    "#print ('Accuracy Score :',accuracy_score(y_test, y_pred) )"
   ]
  },
  {
   "cell_type": "code",
   "execution_count": 26,
   "metadata": {},
   "outputs": [
    {
     "name": "stdout",
     "output_type": "stream",
     "text": [
      "[[ 1 14 13 ...  0  0  0]]\n"
     ]
    },
    {
     "data": {
      "text/plain": [
       "array([1.7455768e-05], dtype=float32)"
      ]
     },
     "execution_count": 26,
     "metadata": {},
     "output_type": "execute_result"
    }
   ],
   "source": [
    "#twt = ['Meetings: Because none of us is as dumb as all of us.']\n",
    "twt = ['The movie was good to see.']\n",
    "#vectorizing the tweet by the pre-fitted tokenizer instance\n",
    "#twt = tokenizer.texts_to_sequences(twt)\n",
    "\n",
    "X_test_twt = tokenizer.texts_to_sequences(twt)\n",
    "\n",
    "X_test_twt_pad = sequence.pad_sequences(X_test_twt, padding='post', maxlen = max_length)\n",
    "\n",
    "#y_pred = model.predict(X_test_pad)\n",
    "\n",
    "#y_pred\n",
    "\n",
    "#padding the tweet to have exactly the same shape as `embedding_2` input\n",
    "#twt = sequence.pad_sequences(twt, maxlen=28, dtype='int32', value=0)\n",
    "print(X_test_twt_pad)\n",
    "sentiment = model.predict(X_test_twt_pad, batch_size =1,verbose = 2)[0]\n",
    "\n",
    "sentiment"
   ]
  },
  {
   "cell_type": "code",
   "execution_count": 27,
   "metadata": {},
   "outputs": [
    {
     "name": "stdout",
     "output_type": "stream",
     "text": [
      "negative\n"
     ]
    }
   ],
   "source": [
    "if(numpy.argmax(sentiment) == 0):\n",
    "    print(\"negative\")\n",
    "elif (numpy.argmax(sentiment) == 1):\n",
    "    print(\"positive\")"
   ]
  },
  {
   "cell_type": "code",
   "execution_count": null,
   "metadata": {},
   "outputs": [],
   "source": []
  }
 ],
 "metadata": {
  "kernelspec": {
   "display_name": "Python [conda env:root] *",
   "language": "python",
   "name": "conda-root-py"
  },
  "language_info": {
   "codemirror_mode": {
    "name": "ipython",
    "version": 3
   },
   "file_extension": ".py",
   "mimetype": "text/x-python",
   "name": "python",
   "nbconvert_exporter": "python",
   "pygments_lexer": "ipython3",
   "version": "3.7.4"
  }
 },
 "nbformat": 4,
 "nbformat_minor": 2
}
